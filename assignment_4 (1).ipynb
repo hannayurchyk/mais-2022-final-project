{
  "cells": [
    {
      "cell_type": "markdown",
      "metadata": {
        "id": "01kF42Ug7KzF"
      },
      "source": [
        "\n",
        "\n",
        "---\n",
        " # **Assignment 4 Kaggle Competition**\n",
        "  \n",
        "This notebook contains the detailed steps for our submission on the Fashion-MNIST Challenge. \n",
        "\n",
        "The work was done by Shahrad EmZed, Emma Tomiuk and Hanna Yurchyk. "
      ]
    },
    {
      "cell_type": "markdown",
      "metadata": {
        "id": "TP5hX7SJv6FC"
      },
      "source": [
        "## Step 1: Prepare the data\n",
        "\n",
        "To complete this assigmnent, we decided to use the Convolutional Neural Network model from TensorFlow Python library.\n",
        "\n",
        "The shape that Tensorflow takes as input X_train in the format `(<number of images>, <image x_dimension>, <image y_dimension>)`. As Y_tain, it needs a simple array of labels in range [0, 9] corresponding to each image at a specific index. Thus, we transform the data provided [here](https://www.kaggle.com/competitions/mais-202-winter-2022/data) into NumPy arrays of this shape.\n",
        "\n",
        "Moreover, we normalize the data before training our model to bring our values within a [0,1] range instead of the RGB values [0, 255]. This step significantly increases our training speed and the accuracy of the model."
      ]
    },
    {
      "cell_type": "code",
      "execution_count": 1,
      "metadata": {
        "colab": {
          "base_uri": "https://localhost:8080/",
          "height": 265
        },
        "id": "dj9zKA4reiZq",
        "outputId": "0f6de230-14c0-4543-94fd-8392784fd21f"
      },
      "outputs": [
        {
          "output_type": "display_data",
          "data": {
            "text/plain": [
              "<Figure size 432x288 with 1 Axes>"
            ],
            "image/png": "[encoded data removed]"
          },
          "metadata": {
            "needs_background": "light"
          }
        }
      ],
      "source": [
        "import numpy as np\n",
        "import matplotlib.pyplot as plt\n",
        "import tensorflow as tf\n",
        "from tensorflow.keras import datasets, layers, models\n",
        "import pandas as pd\n",
        "\n",
        "## X_train\n",
        "# load images\n",
        "train_images = np.load(\"train_images.npy\") \n",
        "\n",
        "# normalize: divide by 255 bc that's the range of colors\n",
        "x_train = train_images/ 255.0\n",
        "\n",
        "## Y_train\n",
        "# load training labels data\n",
        "y_train = pd.read_csv('train_labels.csv')\n",
        "y_train = y_train.drop(['ID'], axis=1).to_numpy()\n",
        "y_train = y_train.reshape(-1, )\n",
        "\n",
        "# display image (provided function)\n",
        "def show_image(arr):\n",
        "    two_d = (np.reshape(arr, (28, 28)) * 255).astype(np.uint8)\n",
        "    plt.imshow(two_d, interpolation='nearest')\n",
        "    plt.show()\n",
        "\n",
        "# index of the training image you want to display\n",
        "index = 122 \n",
        "show_image(train_images[index])"
      ]
    },
    {
      "cell_type": "markdown",
      "metadata": {
        "id": "2zpDeI17xFBN"
      },
      "source": [
        "## Step 2: Training\n",
        "Now that the X_train and Y_train are ready, we can train our CNN model. In this step we have to be careful to choose our hyperparameters to adjust the accuracy. At each convolutional layer we use ReLu to set our values above 0. At the end, we use SoftMax to choose the largest probability for each of the 10 labels."
      ]
    },
    {
      "cell_type": "code",
      "execution_count": 16,
      "metadata": {
        "colab": {
          "base_uri": "https://localhost:8080/"
        },
        "id": "PvQAGPMzCDNa",
        "outputId": "eab88295-dd6b-4e52-c03b-80f4a9fae5fe"
      },
      "outputs": [
        {
          "output_type": "stream",
          "name": "stdout",
          "text": [
            "Epoch 1/10\n",
            "1563/1563 [==============================] - 60s 38ms/step - loss: 0.7253 - accuracy: 0.7236\n",
            "Epoch 2/10\n",
            "1563/1563 [==============================] - 59s 38ms/step - loss: 0.5019 - accuracy: 0.8139\n",
            "Epoch 3/10\n",
            "1563/1563 [==============================] - 59s 37ms/step - loss: 0.4382 - accuracy: 0.8358\n",
            "Epoch 4/10\n",
            "1563/1563 [==============================] - 58s 37ms/step - loss: 0.3952 - accuracy: 0.8546\n",
            "Epoch 5/10\n",
            "1563/1563 [==============================] - 58s 37ms/step - loss: 0.3597 - accuracy: 0.8661\n",
            "Epoch 6/10\n",
            "1563/1563 [==============================] - 60s 38ms/step - loss: 0.3329 - accuracy: 0.8758\n",
            "Epoch 7/10\n",
            "1563/1563 [==============================] - 59s 38ms/step - loss: 0.3116 - accuracy: 0.8835\n",
            "Epoch 8/10\n",
            "1563/1563 [==============================] - 58s 37ms/step - loss: 0.2875 - accuracy: 0.8926\n",
            "Epoch 9/10\n",
            "1563/1563 [==============================] - 59s 37ms/step - loss: 0.2658 - accuracy: 0.9005\n",
            "Epoch 10/10\n",
            "1563/1563 [==============================] - 59s 38ms/step - loss: 0.2443 - accuracy: 0.9079\n"
          ]
        },
        {
          "output_type": "execute_result",
          "data": {
            "text/plain": [
              "<keras.callbacks.History at 0x7f744d7855d0>"
            ]
          },
          "metadata": {},
          "execution_count": 16
        }
      ],
      "source": [
        "#train the model\n",
        "model = models.Sequential([\n",
        "              #convolutional layers\n",
        "              layers.Conv2D(filters=32, kernel_size=(2, 2), activation='relu', input_shape=(28,28,1)), \n",
        "              layers.AveragePooling2D((2, 2)), \n",
        "\n",
        "              layers.Conv2D(filters=64, kernel_size=(2, 2), activation='relu'), \n",
        "              layers.AveragePooling2D((2, 2)),\n",
        "\n",
        "              \n",
        "\n",
        "              #dense layers\n",
        "              layers.Flatten(),\n",
        "              \n",
        "              layers.Dense(512, activation='relu'),\n",
        "              \n",
        "              layers.Dense(256, activation='relu'),\n",
        "              \n",
        "              layers.Dense(128, activation='relu'), \n",
        "\n",
        "              layers.Dropout(0.25), #this layer prevents some overfitting by removing 25% of connections\n",
        "              # last layer should be num of classes\n",
        "              layers.Dense(10, activation='softmax') \n",
        "\n",
        "              \n",
        "    ])\n",
        "  \n",
        "#compile model\n",
        "model.compile(optimizer='adam',\n",
        "              loss='sparse_categorical_crossentropy',\n",
        "              metrics=['accuracy'])\n",
        "\n",
        "model.fit(x_train, y_train, epochs=10) "
      ]
    },
    {
      "cell_type": "markdown",
      "metadata": {
        "id": "IBWnEGnuudP9"
      },
      "source": [
        "## Hyperparameters\n",
        "\n",
        "We heavily used several resources to help us in implementing this model. One of such resources is [here](https://www.datacamp.com/community/tutorials/cnn-tensorflow-python). We payed particular attention to what hyperparameters were used in different implementations of the model and finetuned them later according to the accuracy results on Kaggle. These are the comments justifying our choices in our implementation:\n",
        "\n",
        "<ol>\n",
        "  <li>Convolutional layers</il>\n",
        "    <ul>We noticed that increasing the number of convolutional layers above 2 does not improve the accuracy of our results and significantly descreases our training time.</ul>\n",
        "  <li>Dropout layer</il>\n",
        "    <ul>We found that adding a dropout layer, which randomly chooses 25% edges to remove between our two last layers decreased the accuracy slightly when running it here, but improved our score on the leaderboard because it reduces the chances of overfitting our model to the training data by removing a part of it. </ul>\n",
        "  <li>Filters</il>\n",
        "    <ul>As a general rule, the filters were increased in powers of 2, starting from 32 and above. We noticed having three layers with 512, 256, and 128 filters gave the best results. </ul>\n",
        "  <li>Kernel size</il>\n",
        "    <ul>Since we are dealing with images of size 28x28, the choice between 2x2 and 3x3 filters did not significantly imacted our results. Thus, we decided to keep them at 2x2.</ul>\n",
        "  <li>Number of layers in the dense neural network</il>\n",
        "    <ul>Increasing the number of dense layes increased our training time, but yieled more accurate predicitons.</ul>\n",
        "  <li>epoch</il>\n",
        "    <ul>Each epoch is a training session that goes over the full data set and uses the previous parameters to improve the model. We noticed that after 10 epochs, the model does not significantly imporve and the results on Kaggle demonstrated some overfitting. This, we kept it at 10.</ul>\n",
        "</ol>"
      ]
    },
    {
      "cell_type": "markdown",
      "metadata": {
        "id": "ORvVfHNSxPXZ"
      },
      "source": [
        "## Step 3: Predicting\n",
        "In this step, we predict the labels of the test dataset that we then submit to Kaggle. \n"
      ]
    },
    {
      "cell_type": "code",
      "execution_count": 17,
      "metadata": {
        "colab": {
          "base_uri": "https://localhost:8080/",
          "height": 423
        },
        "id": "vJQ8rm8FCRsL",
        "outputId": "18e4fd8f-1f68-4517-87bb-cac6ed3b75d5"
      },
      "outputs": [
        {
          "output_type": "execute_result",
          "data": {
            "text/plain": [
              "          ID  label\n",
              "0          0      9\n",
              "1          1      5\n",
              "2          2      2\n",
              "3          3      1\n",
              "4          4      8\n",
              "...      ...    ...\n",
              "19995  19995      0\n",
              "19996  19996      2\n",
              "19997  19997      3\n",
              "19998  19998      8\n",
              "19999  19999      6\n",
              "\n",
              "[20000 rows x 2 columns]"
            ],
            "text/html": [
              "\n",
              "  <div id=\"df-b10145b9-7250-4193-a3ae-96f17d0368fd\">\n",
              "    <div class=\"colab-df-container\">\n",
              "      <div>\n",
              "<style scoped>\n",
              "    .dataframe tbody tr th:only-of-type {\n",
              "        vertical-align: middle;\n",
              "    }\n",
              "\n",
              "    .dataframe tbody tr th {\n",
              "        vertical-align: top;\n",
              "    }\n",
              "\n",
              "    .dataframe thead th {\n",
              "        text-align: right;\n",
              "    }\n",
              "</style>\n",
              "<table border=\"1\" class=\"dataframe\">\n",
              "  <thead>\n",
              "    <tr style=\"text-align: right;\">\n",
              "      <th></th>\n",
              "      <th>ID</th>\n",
              "      <th>label</th>\n",
              "    </tr>\n",
              "  </thead>\n",
              "  <tbody>\n",
              "    <tr>\n",
              "      <th>0</th>\n",
              "      <td>0</td>\n",
              "      <td>9</td>\n",
              "    </tr>\n",
              "    <tr>\n",
              "      <th>1</th>\n",
              "      <td>1</td>\n",
              "      <td>5</td>\n",
              "    </tr>\n",
              "    <tr>\n",
              "      <th>2</th>\n",
              "      <td>2</td>\n",
              "      <td>2</td>\n",
              "    </tr>\n",
              "    <tr>\n",
              "      <th>3</th>\n",
              "      <td>3</td>\n",
              "      <td>1</td>\n",
              "    </tr>\n",
              "    <tr>\n",
              "      <th>4</th>\n",
              "      <td>4</td>\n",
              "      <td>8</td>\n",
              "    </tr>\n",
              "    <tr>\n",
              "      <th>...</th>\n",
              "      <td>...</td>\n",
              "      <td>...</td>\n",
              "    </tr>\n",
              "    <tr>\n",
              "      <th>19995</th>\n",
              "      <td>19995</td>\n",
              "      <td>0</td>\n",
              "    </tr>\n",
              "    <tr>\n",
              "      <th>19996</th>\n",
              "      <td>19996</td>\n",
              "      <td>2</td>\n",
              "    </tr>\n",
              "    <tr>\n",
              "      <th>19997</th>\n",
              "      <td>19997</td>\n",
              "      <td>3</td>\n",
              "    </tr>\n",
              "    <tr>\n",
              "      <th>19998</th>\n",
              "      <td>19998</td>\n",
              "      <td>8</td>\n",
              "    </tr>\n",
              "    <tr>\n",
              "      <th>19999</th>\n",
              "      <td>19999</td>\n",
              "      <td>6</td>\n",
              "    </tr>\n",
              "  </tbody>\n",
              "</table>\n",
              "<p>20000 rows × 2 columns</p>\n",
              "</div>\n",
              "      <button class=\"colab-df-convert\" onclick=\"convertToInteractive('df-b10145b9-7250-4193-a3ae-96f17d0368fd')\"\n",
              "              title=\"Convert this dataframe to an interactive table.\"\n",
              "              style=\"display:none;\">\n",
              "        \n",
              "  <svg xmlns=\"http://www.w3.org/2000/svg\" height=\"24px\"viewBox=\"0 0 24 24\"\n",
              "       width=\"24px\">\n",
              "    <path d=\"M0 0h24v24H0V0z\" fill=\"none\"/>\n",
              "    <path d=\"M18.56 5.44l.94 2.06.94-2.06 2.06-.94-2.06-.94-.94-2.06-.94 2.06-2.06.94zm-11 1L8.5 8.5l.94-2.06 2.06-.94-2.06-.94L8.5 2.5l-.94 2.06-2.06.94zm10 10l.94 2.06.94-2.06 2.06-.94-2.06-.94-.94-2.06-.94 2.06-2.06.94z\"/><path d=\"M17.41 7.96l-1.37-1.37c-.4-.4-.92-.59-1.43-.59-.52 0-1.04.2-1.43.59L10.3 9.45l-7.72 7.72c-.78.78-.78 2.05 0 2.83L4 21.41c.39.39.9.59 1.41.59.51 0 1.02-.2 1.41-.59l7.78-7.78 2.81-2.81c.8-.78.8-2.07 0-2.86zM5.41 20L4 18.59l7.72-7.72 1.47 1.35L5.41 20z\"/>\n",
              "  </svg>\n",
              "      </button>\n",
              "      \n",
              "  <style>\n",
              "    .colab-df-container {\n",
              "      display:flex;\n",
              "      flex-wrap:wrap;\n",
              "      gap: 12px;\n",
              "    }\n",
              "\n",
              "    .colab-df-convert {\n",
              "      background-color: #E8F0FE;\n",
              "      border: none;\n",
              "      border-radius: 50%;\n",
              "      cursor: pointer;\n",
              "      display: none;\n",
              "      fill: #1967D2;\n",
              "      height: 32px;\n",
              "      padding: 0 0 0 0;\n",
              "      width: 32px;\n",
              "    }\n",
              "\n",
              "    .colab-df-convert:hover {\n",
              "      background-color: #E2EBFA;\n",
              "      box-shadow: 0px 1px 2px rgba(60, 64, 67, 0.3), 0px 1px 3px 1px rgba(60, 64, 67, 0.15);\n",
              "      fill: #174EA6;\n",
              "    }\n",
              "\n",
              "    [theme=dark] .colab-df-convert {\n",
              "      background-color: #3B4455;\n",
              "      fill: #D2E3FC;\n",
              "    }\n",
              "\n",
              "    [theme=dark] .colab-df-convert:hover {\n",
              "      background-color: #434B5C;\n",
              "      box-shadow: 0px 1px 3px 1px rgba(0, 0, 0, 0.15);\n",
              "      filter: drop-shadow(0px 1px 2px rgba(0, 0, 0, 0.3));\n",
              "      fill: #FFFFFF;\n",
              "    }\n",
              "  </style>\n",
              "\n",
              "      <script>\n",
              "        const buttonEl =\n",
              "          document.querySelector('#df-b10145b9-7250-4193-a3ae-96f17d0368fd button.colab-df-convert');\n",
              "        buttonEl.style.display =\n",
              "          google.colab.kernel.accessAllowed ? 'block' : 'none';\n",
              "\n",
              "        async function convertToInteractive(key) {\n",
              "          const element = document.querySelector('#df-b10145b9-7250-4193-a3ae-96f17d0368fd');\n",
              "          const dataTable =\n",
              "            await google.colab.kernel.invokeFunction('convertToInteractive',\n",
              "                                                     [key], {});\n",
              "          if (!dataTable) return;\n",
              "\n",
              "          const docLinkHtml = 'Like what you see? Visit the ' +\n",
              "            '<a target=\"_blank\" href=https://colab.research.google.com/notebooks/data_table.ipynb>data table notebook</a>'\n",
              "            + ' to learn more about interactive tables.';\n",
              "          element.innerHTML = '';\n",
              "          dataTable['output_type'] = 'display_data';\n",
              "          await google.colab.output.renderOutput(dataTable, element);\n",
              "          const docLink = document.createElement('div');\n",
              "          docLink.innerHTML = docLinkHtml;\n",
              "          element.appendChild(docLink);\n",
              "        }\n",
              "      </script>\n",
              "    </div>\n",
              "  </div>\n",
              "  "
            ]
          },
          "metadata": {},
          "execution_count": 17
        }
      ],
      "source": [
        "# model testing\n",
        "x_test = np.load('test_images.npy')\n",
        "x_test = x_test / 255.0\n",
        "\n",
        "# predict values\n",
        "y_pred = model.predict(x_test)\n",
        "y_labels = np.array([np.argmax(element) for element in y_pred])\n",
        "\n",
        "# save results to csv\n",
        "df = pd.DataFrame(range(0, 20000), columns=['ID'])\n",
        "df['label'] = y_labels\n",
        "df.to_csv('submission.csv', index=False)\n",
        "df"
      ]
    },
    {
      "cell_type": "markdown",
      "metadata": {
        "id": "zNfPUwo_pvWM"
      },
      "source": [
        "## Quotes\n",
        "\"i am so lost and i have no idea what to do\" one contributor mentioned mentioned.\n",
        "\n",
        "\"lets drop out together thanks!\" one contributor mentioned thought."
      ]
    }
  ],
  "metadata": {
    "colab": {
      "collapsed_sections": [],
      "name": "assignment_4.ipynb",
      "provenance": []
    },
    "kernelspec": {
      "display_name": "Python 3",
      "name": "python3"
    },
    "language_info": {
      "name": "python"
    }
  },
  "nbformat": 4,
  "nbformat_minor": 0
}